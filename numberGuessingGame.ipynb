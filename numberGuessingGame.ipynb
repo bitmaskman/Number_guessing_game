{
 "cells": [
  {
   "cell_type": "markdown",
   "id": "ea38c35c",
   "metadata": {},
   "source": [
    "# Number guessing game"
   ]
  },
  {
   "cell_type": "code",
   "execution_count": null,
   "id": "50a66693",
   "metadata": {},
   "outputs": [],
   "source": [
    "#Problem Statement:\n",
    "# user will give the input 2 values the for range, then there will be a random number generated between the given range and the \n",
    "# user will have to guess the number in minimum number of guesses.The users will be informed If the guessed number is higher \n",
    "# or lower than the randomly generated number \n"
   ]
  },
  {
   "cell_type": "code",
   "execution_count": 3,
   "id": "4db9266b",
   "metadata": {},
   "outputs": [],
   "source": [
    "#Here the minimum number of guesses will be log2(upperBound-lowerBound+1) (binary search)"
   ]
  },
  {
   "cell_type": "code",
   "execution_count": null,
   "id": "e68e2d2d",
   "metadata": {},
   "outputs": [
    {
     "name": "stdout",
     "output_type": "stream",
     "text": [
      "Welcome to this interesting game\n",
      "Enter your name\n",
      "Priyanshu\n",
      "Hi Priyanshu\n",
      "Enter the lowerBound: 2\n",
      "Enter the upperBound: 25\n",
      "You have only  5 to correctly guess the answer\n",
      "Guess the number13\n",
      "Your number is too high than the answer\n",
      "Guess the number7\n",
      "Your number is too high than the answer\n",
      "Guess the number4\n",
      "Your number is too low than the answer\n",
      "Guess the number5\n",
      "Your number is too low than the answer\n",
      "Guess the number6\n",
      "Congratulations, you did it in  5  try\n"
     ]
    }
   ],
   "source": [
    "import random\n",
    "import math\n",
    "\n",
    "print(\"Welcome to this interesting game\\nEnter your name\")\n",
    "\n",
    "user_name=input()\n",
    "print(\"Hi \"+user_name)\n",
    "lowerBound=int(input(\"Enter the lowerBound: \"))\n",
    "upperBound=int(input(\"Enter the upperBound: \"))\n",
    "\n",
    "rand_num = random.randint(lowerBound,upperBound)\n",
    "\n",
    "min_guess = round(math.log(upperBound-lowerBound+1,2))\n",
    "print(\"You have only \", min_guess, \"to correctly guess the answer\")\n",
    "count=0\n",
    "while count<=min_guess:\n",
    "    count+=1\n",
    "    guessed_number=int(input(\"Guess the number\"))\n",
    "    if guessed_number==rand_num:\n",
    "        print(\"Congratulations, you did it in \", count ,  \" try\")\n",
    "    elif guessed_number>rand_num:\n",
    "        print(\"Your number is too high than the answer\")\n",
    "    else:\n",
    "        print(\"Your number is too low than the answer\")\n",
    "        \n",
    "if  count > min_guess:\n",
    "    print(\"Your number of guesses is %d\" % count)\n",
    "else:\n",
    "    print(\"Better Luck Next Time\")"
   ]
  },
  {
   "cell_type": "code",
   "execution_count": null,
   "id": "40c82b44",
   "metadata": {},
   "outputs": [],
   "source": []
  }
 ],
 "metadata": {
  "kernelspec": {
   "display_name": "Python 3 (ipykernel)",
   "language": "python",
   "name": "python3"
  },
  "language_info": {
   "codemirror_mode": {
    "name": "ipython",
    "version": 3
   },
   "file_extension": ".py",
   "mimetype": "text/x-python",
   "name": "python",
   "nbconvert_exporter": "python",
   "pygments_lexer": "ipython3",
   "version": "3.9.12"
  }
 },
 "nbformat": 4,
 "nbformat_minor": 5
}
